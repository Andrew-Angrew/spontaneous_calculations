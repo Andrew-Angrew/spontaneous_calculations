{
 "cells": [
  {
   "cell_type": "code",
   "execution_count": 70,
   "metadata": {},
   "outputs": [],
   "source": [
    "from enum import Enum, auto\n",
    "from dataclasses import dataclass, field\n",
    "from typing import List\n",
    "from copy import deepcopy\n",
    "from itertools import combinations\n",
    "\n",
    "from matplotlib import pyplot as plt"
   ]
  },
  {
   "cell_type": "code",
   "execution_count": 71,
   "metadata": {},
   "outputs": [],
   "source": [
    "class BlockType(Enum):\n",
    "    Sign = \"sign\"\n",
    "    Digit = \"digit\"\n",
    "    Equality = \"equality\""
   ]
  },
  {
   "cell_type": "code",
   "execution_count": 108,
   "metadata": {},
   "outputs": [],
   "source": [
    "SLOTS = {\n",
    "    BlockType.Digit: (\n",
    "        ((0, 0), (0, 1)),\n",
    "        ((0, 0), (1, 0)),\n",
    "        ((0, 1), (0, 2)),\n",
    "        ((0, 1), (1, 1)),\n",
    "        ((0, 2), (1, 2)),\n",
    "        ((1, 0), (1, 1)),\n",
    "        ((1, 1), (1, 2))\n",
    "    ),\n",
    "    BlockType.Sign: (\n",
    "        ((0.5, 0.5), (0.5, 1.5)),\n",
    "        ((0, 1), (1, 1))\n",
    "    ),\n",
    "    BlockType.Equality: (\n",
    "        ((0, 0.5), (1, 0.5)),\n",
    "        ((0, 1.5), (1, 1.5))\n",
    "    )\n",
    "}\n",
    "\n",
    "class SlotColor:\n",
    "    Empty = (0.7, 0.7, 0.7) # light grey\n",
    "    Removed = \"red\"\n",
    "    Added = \"Green\"\n",
    "    Remaining = \"yellow\"\n",
    "\n",
    "DIGITS = {\n",
    "    (1, 1, 1, 0, 1, 1, 1): 0,\n",
    "    (0, 0, 0, 0, 0, 1, 1): 1,\n",
    "    (1, 1, 0, 1, 1, 0, 1): 2,\n",
    "    (0, 1, 0, 1, 1, 1, 1): 3,\n",
    "    (0, 0, 1, 1, 0, 1, 1): 4,\n",
    "    (0, 1, 1, 1, 1, 1, 0): 5,\n",
    "    (1, 1, 1, 1, 1, 1, 0): 6,\n",
    "    (0, 0, 0, 0, 1, 1, 1): 7,\n",
    "    (1, 1, 1, 1, 1, 1, 1): 8,\n",
    "    (0, 1, 1, 1, 1, 1, 1): 9\n",
    "}\n"
   ]
  },
  {
   "cell_type": "code",
   "execution_count": 109,
   "metadata": {},
   "outputs": [],
   "source": [
    "class Block:\n",
    "    def __init__(self, block_type : BlockType, matches : List = None):\n",
    "        assert isinstance(block_type, BlockType)\n",
    "        self.indicators = list(matches) if matches else []\n",
    "        self.type = block_type\n",
    "        self._validate()\n",
    "    \n",
    "    def _validate(self):\n",
    "        assert all(indicator in {0, 1} for indicator in self.indicators)\n",
    "        if self.type == BlockType.Equality:\n",
    "            assert len(self.indicators) == 0\n",
    "        elif self.type == BlockType.Sign:\n",
    "            assert len(self.indicators) == 1\n",
    "        else:\n",
    "            assert self.type == BlockType.Digit\n",
    "            assert len(self.indicators) == 7\n",
    "    \n",
    "    def add_match(self, index):\n",
    "        assert self.indicators[index] == 0\n",
    "        self.indicators[index] = 1\n",
    "    \n",
    "    def remove_match(self, index):\n",
    "        assert self.indicators[index] == 1\n",
    "        self.indicators[index] = 0\n",
    "\n",
    "    def available_matches(self):\n",
    "        return [slot for slot, indicator in enumerate(self.indicators) if indicator == 1]\n",
    "    \n",
    "    def absent_matches(self):\n",
    "        return [slot for slot, indicator in enumerate(self.indicators) if indicator == 0]\n",
    "    \n",
    "    def is_valid(self):\n",
    "        if self.type in {BlockType.Sign, BlockType.Equality}:\n",
    "            return True\n",
    "        return tuple(self.indicators) in DIGITS\n",
    "    \n",
    "    def get_str(self):\n",
    "        assert self.is_valid()\n",
    "        if self.type == BlockType.Equality:\n",
    "            return \"==\"\n",
    "        if self.type == BlockType.Sign:\n",
    "            return \"+\" if self.indicators[0] else \"-\"\n",
    "        if self.type == BlockType.Digit:\n",
    "            return str(DIGITS[tuple(self.indicators)])\n",
    "\n",
    "    @classmethod\n",
    "    def from_digit(cls, digit):\n",
    "        assert digit in range(10)\n",
    "        for indicators, v in DIGITS.items():\n",
    "            if v == digit:\n",
    "                return cls(BlockType.Digit, indicators)\n",
    "        assert False, \"Can't find digit {}\".format(digit)\n",
    "\n",
    "class MatchConfiguration:\n",
    "    def __init__(self, blocks):\n",
    "        self.blocks = [Block(b.type, b.indicators) for b in blocks]\n",
    "    \n",
    "    @classmethod\n",
    "    def from_str(cls, s):\n",
    "        blocks = []\n",
    "        for symbol in s:\n",
    "            if symbol == \"=\":\n",
    "                blocks.append(Block(BlockType.Equality))\n",
    "            elif symbol in {\"-\", \"+\"}:\n",
    "                blocks.append(Block(BlockType.Sign, [1 if symbol == \"+\" else 0]))\n",
    "            else:\n",
    "                blocks.append(Block.from_digit(int(symbol)))\n",
    "        return cls(blocks)\n",
    "\n",
    "    def is_valid(self):\n",
    "        if any(not b.is_valid() for b in self.blocks):\n",
    "            return False\n",
    "        if all(b.type != BlockType.Equality for b in self.blocks):\n",
    "            return True\n",
    "        py_expression = \"\".join(b.get_str() for b in self.blocks)\n",
    "        return eval(py_expression)\n",
    "    \n",
    "    def add_match(self, block_id, slot_index):\n",
    "        self.blocks[block_id].add_match(slot_index)\n",
    "    \n",
    "    def remove_match(self, block_id, slot_index):\n",
    "        self.blocks[block_id].remove_match(slot_index)\n",
    "\n",
    "    def available_matches(self):\n",
    "        result = []\n",
    "        for block_id, block in enumerate(self.blocks):\n",
    "            for slot_index in block.available_matches():\n",
    "                result.append((block_id, slot_index))\n",
    "        return result\n",
    "    \n",
    "    def absent_matches(self):\n",
    "        result = []\n",
    "        for block_id, block in enumerate(self.blocks):\n",
    "            for slot_index in block.absent_matches():\n",
    "                result.append((block_id, slot_index))\n",
    "        return result\n",
    "    \n"
   ]
  },
  {
   "cell_type": "code",
   "execution_count": 116,
   "metadata": {},
   "outputs": [],
   "source": [
    "            \n",
    "class Solution:\n",
    "    def __init__(self, blocks, removed_matches=(), added_matches=()):\n",
    "        self.block_types = [block.type for block in blocks]\n",
    "        self.slot_colors = []\n",
    "        for block in blocks:\n",
    "            if block.type == BlockType.Equality:\n",
    "                self.slot_colors.append([SlotColor.Remaining] * 2)\n",
    "            elif block.type == BlockType.Sign:\n",
    "                self.slot_colors.append(\n",
    "                    [SlotColor.Remaining if block.indicators[0] else SlotColor.Empty,\n",
    "                     SlotColor.Remaining]\n",
    "                )\n",
    "            else:\n",
    "                self.slot_colors.append([\n",
    "                    SlotColor.Remaining if i else SlotColor.Empty for i in block.indicators\n",
    "                ])\n",
    "        for block_id, slot_id in removed_matches:\n",
    "            self.slot_colors[block_id][slot_id] = SlotColor.Removed\n",
    "        for block_id, slot_id in added_matches:\n",
    "            self.slot_colors[block_id][slot_id] = SlotColor.Added\n",
    "                \n",
    "    def plot(self, scale = 100, padding=20, figsize=(20, 10)):\n",
    "        figure, axes = plt.subplots(1, len(self.block_types), squeeze=False, figsize=figsize)\n",
    "        axes = axes[0]\n",
    "        for block_type, colors, ax in zip(self.block_types, self.slot_colors, axes):\n",
    "            ax.set_xlim(0, scale + 2 * padding)\n",
    "            ax.set_ylim(0, 2 * scale + 2 * padding)\n",
    "            ax.set_xticks([], [])\n",
    "            ax.set_yticks([], [])\n",
    "            ax.set_aspect('equal')\n",
    "            for ((x, y), (x2, y2)), color in zip(SLOTS[block_type], colors):\n",
    "                ax.arrow(\n",
    "                    padding + scale * x,\n",
    "                    padding + scale * y,\n",
    "                    scale * (x2 - x),\n",
    "                    scale * (y2 - y),\n",
    "                    color = color,\n",
    "                    linewidth=5\n",
    "                )\n",
    "#         figure.show()\n",
    "        \n"
   ]
  },
  {
   "cell_type": "code",
   "execution_count": 117,
   "metadata": {},
   "outputs": [],
   "source": [
    "def search_solutions(configuration, add_count, delete_count, verbose=False):\n",
    "    available_matches = configuration.available_matches()\n",
    "    absent_matches = configuration.absent_matches()\n",
    "    solutions = []\n",
    "    for removed_matches in combinations(available_matches, delete_count):\n",
    "        for added_matches in combinations(absent_matches, add_count):\n",
    "            for block_id, slot_index in removed_matches:\n",
    "                configuration.remove_match(block_id, slot_index)\n",
    "            for block_id, slot_index in added_matches:\n",
    "                configuration.add_match(block_id, slot_index)\n",
    "            if configuration.is_valid():\n",
    "                solution = Solution(\n",
    "                    configuration.blocks,\n",
    "                    removed_matches,\n",
    "                    added_matches\n",
    "                )\n",
    "                solutions.append(solution)\n",
    "                if verbose:\n",
    "                    solution.plot()\n",
    "            for block_id, slot_index in removed_matches:\n",
    "                configuration.add_match(block_id, slot_index)\n",
    "            for block_id, slot_index in added_matches:\n",
    "                configuration.remove_match(block_id, slot_index)\n",
    "    return solutions"
   ]
  },
  {
   "cell_type": "markdown",
   "metadata": {},
   "source": [
    "## Examples"
   ]
  },
  {
   "cell_type": "code",
   "execution_count": 118,
   "metadata": {},
   "outputs": [
    {
     "data": {
      "text/plain": [
       "[<__main__.Solution at 0x7f10998967f0>, <__main__.Solution at 0x7f109a9580b8>]"
      ]
     },
     "execution_count": 118,
     "metadata": {},
     "output_type": "execute_result"
    },
    {
     "data": {
      "image/png": "[encoded data removed]",
      "text/plain": [
       "<Figure size 1440x720 with 1 Axes>"
      ]
     },
     "metadata": {},
     "output_type": "display_data"
    },
    {
     "data": {
      "image/png": "[encoded data removed]",
      "text/plain": [
       "<Figure size 1440x720 with 1 Axes>"
      ]
     },
     "metadata": {},
     "output_type": "display_data"
    }
   ],
   "source": [
    "conf = MatchConfiguration([Block.from_digit(9)])\n",
    "search_solutions(conf, 1, 1, verbose=True)"
   ]
  },
  {
   "cell_type": "code",
   "execution_count": 122,
   "metadata": {},
   "outputs": [
    {
     "data": {
      "text/plain": [
       "[<__main__.Solution at 0x7f109a2c79b0>]"
      ]
     },
     "execution_count": 122,
     "metadata": {},
     "output_type": "execute_result"
    },
    {
     "data": {
      "image/png": "[encoded data removed]",
      "text/plain": [
       "<Figure size 1440x720 with 5 Axes>"
      ]
     },
     "metadata": {},
     "output_type": "display_data"
    }
   ],
   "source": [
    "conf = MatchConfiguration.from_str(\"2+3=6\")\n",
    "search_solutions(conf, add_count=1, delete_count=1, verbose=True)"
   ]
  },
  {
   "cell_type": "code",
   "execution_count": 123,
   "metadata": {},
   "outputs": [
    {
     "data": {
      "text/plain": [
       "[<__main__.Solution at 0x7f109a2c75c0>]"
      ]
     },
     "execution_count": 123,
     "metadata": {},
     "output_type": "execute_result"
    },
    {
     "data": {
      "image/png": "[encoded data removed]",
      "text/plain": [
       "<Figure size 1440x720 with 5 Axes>"
      ]
     },
     "metadata": {},
     "output_type": "display_data"
    }
   ],
   "source": [
    "conf = MatchConfiguration.from_str(\"2+3=6\")\n",
    "search_solutions(conf, add_count=0, delete_count=1, verbose=True)"
   ]
  },
  {
   "cell_type": "code",
   "execution_count": 125,
   "metadata": {},
   "outputs": [
    {
     "data": {
      "text/plain": [
       "[<__main__.Solution at 0x7f1093515f60>, <__main__.Solution at 0x7f109378d7b8>]"
      ]
     },
     "execution_count": 125,
     "metadata": {},
     "output_type": "execute_result"
    },
    {
     "data": {
      "image/png": "[encoded data removed]",
      "text/plain": [
       "<Figure size 1440x720 with 5 Axes>"
      ]
     },
     "metadata": {},
     "output_type": "display_data"
    },
    {
     "data": {
      "image/png": "[encoded data removed]",
      "text/plain": [
       "<Figure size 1440x720 with 5 Axes>"
      ]
     },
     "metadata": {},
     "output_type": "display_data"
    }
   ],
   "source": [
    "conf = MatchConfiguration.from_str(\"2+3=6\")\n",
    "search_solutions(conf, add_count=2, delete_count=2, verbose=True)"
   ]
  },
  {
   "cell_type": "markdown",
   "metadata": {},
   "source": [
    "## Tests\n"
   ]
  },
  {
   "cell_type": "code",
   "execution_count": 54,
   "metadata": {
    "scrolled": true
   },
   "outputs": [],
   "source": [
    "# test block copy\n",
    "block1 = Block(BlockType.Digit, [1] * 7)\n",
    "block2 = deepcopy(block1)\n",
    "\n",
    "assert block1.indicators == block2.indicators\n",
    "assert not block1.indicators is block2.indicators\n",
    "block1.remove_match(1)\n",
    "assert block1.indicators != block2.indicators\n",
    "\n",
    "assert not block1.is_valid()\n",
    "assert block2.is_valid()\n",
    "\n",
    "# test block validation\n",
    "for indicators in DIGITS:\n",
    "    assert Block(BlockType.Digit, indicators).is_valid()\n",
    "assert not Block(BlockType.Digit, [0] * 7).is_valid()\n",
    "assert not Block(BlockType.Digit, [0] * 2 + [1] * 5).is_valid()\n"
   ]
  },
  {
   "cell_type": "code",
   "execution_count": 55,
   "metadata": {},
   "outputs": [
    {
     "name": "stderr",
     "output_type": "stream",
     "text": [
      "/home/strashila/anaconda3/lib/python3.7/site-packages/ipykernel_launcher.py:40: UserWarning: Matplotlib is currently using module://ipykernel.pylab.backend_inline, which is a non-GUI backend, so cannot show the figure.\n"
     ]
    },
    {
     "data": {
      "image/png": "[encoded data removed]",
      "text/plain": [
       "<Figure size 1440x720 with 10 Axes>"
      ]
     },
     "metadata": {},
     "output_type": "display_data"
    }
   ],
   "source": [
    "sol = Solution([Block.from_digit(i) for i in range(10)])\n",
    "sol.plot()"
   ]
  },
  {
   "cell_type": "code",
   "execution_count": null,
   "metadata": {},
   "outputs": [],
   "source": []
  },
  {
   "cell_type": "code",
   "execution_count": null,
   "metadata": {},
   "outputs": [],
   "source": []
  },
  {
   "cell_type": "code",
   "execution_count": null,
   "metadata": {},
   "outputs": [],
   "source": []
  }
 ],
 "metadata": {
  "kernelspec": {
   "display_name": "Python 3",
   "language": "python",
   "name": "python3"
  },
  "language_info": {
   "codemirror_mode": {
    "name": "ipython",
    "version": 3
   },
   "file_extension": ".py",
   "mimetype": "text/x-python",
   "name": "python",
   "nbconvert_exporter": "python",
   "pygments_lexer": "ipython3",
   "version": "3.7.3"
  }
 },
 "nbformat": 4,
 "nbformat_minor": 2
}
