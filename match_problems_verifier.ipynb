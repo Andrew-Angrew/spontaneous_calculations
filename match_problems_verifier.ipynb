{
 "cells": [
  {
   "cell_type": "code",
   "execution_count": 17,
   "metadata": {},
   "outputs": [],
   "source": [
    "from enum import Enum, auto\n",
    "from dataclasses import dataclass, field\n",
    "from typing import List\n",
    "from copy import deepcopy\n",
    "from itertools import combinations, product\n",
    "\n",
    "from matplotlib import pyplot as plt"
   ]
  },
  {
   "cell_type": "code",
   "execution_count": 2,
   "metadata": {},
   "outputs": [],
   "source": [
    "class BlockType(Enum):\n",
    "    Sign = \"sign\"\n",
    "    Digit = \"digit\"\n",
    "    Equality = \"equality\"\n",
    "\n",
    "SLOTS = {\n",
    "    BlockType.Digit: (\n",
    "        ((0, 0), (0, 1)),\n",
    "        ((0, 0), (1, 0)),\n",
    "        ((0, 1), (0, 2)),\n",
    "        ((0, 1), (1, 1)),\n",
    "        ((0, 2), (1, 2)),\n",
    "        ((1, 0), (1, 1)),\n",
    "        ((1, 1), (1, 2))\n",
    "    ),\n",
    "    BlockType.Sign: (\n",
    "        ((0.5, 0.5), (0.5, 1.5)),\n",
    "        ((0, 1), (1, 1))\n",
    "    ),\n",
    "    BlockType.Equality: (\n",
    "        ((0, 0.5), (1, 0.5)),\n",
    "        ((0, 1.5), (1, 1.5))\n",
    "    )\n",
    "}\n",
    "\n",
    "class SlotColor:\n",
    "    Empty = (0.7, 0.7, 0.7) # light grey\n",
    "    Removed = \"red\"\n",
    "    Added = \"Green\"\n",
    "    Remaining = \"yellow\"\n",
    "\n",
    "DIGITS = {\n",
    "    (1, 1, 1, 0, 1, 1, 1): '0',\n",
    "    (0, 0, 0, 0, 0, 1, 1): '1',\n",
    "    (1, 1, 0, 1, 1, 0, 1): '2',\n",
    "    (0, 1, 0, 1, 1, 1, 1): '3',\n",
    "    (0, 0, 1, 1, 0, 1, 1): '4',\n",
    "    (0, 1, 1, 1, 1, 1, 0): '5',\n",
    "    (1, 1, 1, 1, 1, 1, 0): '6',\n",
    "    (0, 0, 0, 0, 1, 1, 1): '7',\n",
    "    (1, 1, 1, 1, 1, 1, 1): '8',\n",
    "    (0, 1, 1, 1, 1, 1, 1): '9'\n",
    "}"
   ]
  },
  {
   "cell_type": "code",
   "execution_count": 3,
   "metadata": {},
   "outputs": [],
   "source": [
    "class Block:\n",
    "    def __init__(self, block_type : BlockType, matches : List = None):\n",
    "        assert isinstance(block_type, BlockType)\n",
    "        self.indicators = list(matches) if matches else []\n",
    "        self.type = block_type\n",
    "        self._validate()\n",
    "    \n",
    "    def _validate(self):\n",
    "        assert all(indicator in {0, 1} for indicator in self.indicators)\n",
    "        if self.type == BlockType.Equality:\n",
    "            assert len(self.indicators) == 0\n",
    "        elif self.type == BlockType.Sign:\n",
    "            assert len(self.indicators) == 1\n",
    "        else:\n",
    "            assert self.type == BlockType.Digit\n",
    "            assert len(self.indicators) == 7\n",
    "    \n",
    "    def add_match(self, index):\n",
    "        assert self.indicators[index] == 0\n",
    "        self.indicators[index] = 1\n",
    "    \n",
    "    def remove_match(self, index):\n",
    "        assert self.indicators[index] == 1\n",
    "        self.indicators[index] = 0\n",
    "\n",
    "    def available_matches(self):\n",
    "        return [slot for slot, indicator in enumerate(self.indicators) if indicator == 1]\n",
    "    \n",
    "    def absent_matches(self):\n",
    "        return [slot for slot, indicator in enumerate(self.indicators) if indicator == 0]\n",
    "    \n",
    "    def is_valid(self):\n",
    "        if self.type in {BlockType.Sign, BlockType.Equality}:\n",
    "            return True\n",
    "        return tuple(self.indicators) in DIGITS\n",
    "    \n",
    "    def get_str(self):\n",
    "        assert self.is_valid()\n",
    "        if self.type == BlockType.Equality:\n",
    "            return \"==\"\n",
    "        if self.type == BlockType.Sign:\n",
    "            return \"+\" if self.indicators[0] else \"-\"\n",
    "        if self.type == BlockType.Digit:\n",
    "            return DIGITS[tuple(self.indicators)]\n",
    "\n",
    "    @classmethod\n",
    "    def from_symbol(cls, symbol):\n",
    "        if symbol == \"=\":\n",
    "            return cls(BlockType.Equality)\n",
    "        elif symbol in {\"-\", \"+\"}:\n",
    "            return cls(BlockType.Sign, [1 if symbol == \"+\" else 0])\n",
    "        else:\n",
    "            assert symbol in DIGITS.values(), \"bad symbol: {}\".format(symbol)\n",
    "            for indicators, val in DIGITS.items():\n",
    "                if val == symbol:\n",
    "                    return cls(BlockType.Digit, indicators)\n",
    "\n",
    "class MatchConfiguration:\n",
    "    def __init__(self, blocks):\n",
    "        self.blocks = [Block(b.type, b.indicators) for b in blocks]\n",
    "    \n",
    "    @classmethod\n",
    "    def from_str(cls, s):\n",
    "        return cls(Block.from_symbol(symbol) for symbol in s if not symbol.isspace())\n",
    "\n",
    "    def is_valid(self):\n",
    "        if any(not b.is_valid() for b in self.blocks):\n",
    "            return False\n",
    "        if all(b.type != BlockType.Equality for b in self.blocks):\n",
    "            return True\n",
    "        py_expression = \"\".join(b.get_str() for b in self.blocks)\n",
    "        return eval(py_expression)\n",
    "    \n",
    "    def add_match(self, block_id, slot_index):\n",
    "        self.blocks[block_id].add_match(slot_index)\n",
    "    \n",
    "    def remove_match(self, block_id, slot_index):\n",
    "        self.blocks[block_id].remove_match(slot_index)\n",
    "\n",
    "    def available_matches(self):\n",
    "        result = []\n",
    "        for block_id, block in enumerate(self.blocks):\n",
    "            for slot_index in block.available_matches():\n",
    "                result.append((block_id, slot_index))\n",
    "        return result\n",
    "    \n",
    "    def absent_matches(self):\n",
    "        result = []\n",
    "        for block_id, block in enumerate(self.blocks):\n",
    "            for slot_index in block.absent_matches():\n",
    "                result.append((block_id, slot_index))\n",
    "        return result\n",
    "    \n"
   ]
  },
  {
   "cell_type": "code",
   "execution_count": 4,
   "metadata": {},
   "outputs": [],
   "source": [
    "            \n",
    "class Solution:\n",
    "    def __init__(self, configuration : MatchConfiguration, removed_matches=(), added_matches=()):\n",
    "        self.block_types = [block.type for block in configuration.blocks]\n",
    "        self.slot_colors = []\n",
    "        for block in configuration.blocks:\n",
    "            if block.type == BlockType.Equality:\n",
    "                self.slot_colors.append([SlotColor.Remaining] * 2)\n",
    "            elif block.type == BlockType.Sign:\n",
    "                self.slot_colors.append(\n",
    "                    [SlotColor.Remaining if block.indicators[0] else SlotColor.Empty,\n",
    "                     SlotColor.Remaining]\n",
    "                )\n",
    "            else:\n",
    "                self.slot_colors.append([\n",
    "                    SlotColor.Remaining if i else SlotColor.Empty for i in block.indicators\n",
    "                ])\n",
    "        for block_id, slot_id in removed_matches:\n",
    "            self.slot_colors[block_id][slot_id] = SlotColor.Removed\n",
    "        for block_id, slot_id in added_matches:\n",
    "            self.slot_colors[block_id][slot_id] = SlotColor.Added\n",
    "                \n",
    "    def plot(self, scale = 100, padding=20, figsize=(20, 10)):\n",
    "        figure, axes = plt.subplots(1, len(self.block_types), squeeze=False, figsize=figsize)\n",
    "        axes = axes[0]\n",
    "        for block_type, colors, ax in zip(self.block_types, self.slot_colors, axes):\n",
    "            ax.set_xlim(0, scale + 2 * padding)\n",
    "            ax.set_ylim(0, 2 * scale + 2 * padding)\n",
    "            ax.set_xticks([], [])\n",
    "            ax.set_yticks([], [])\n",
    "            ax.set_aspect('equal')\n",
    "            for ((x, y), (x2, y2)), color in zip(SLOTS[block_type], colors):\n",
    "                ax.arrow(\n",
    "                    padding + scale * x,\n",
    "                    padding + scale * y,\n",
    "                    scale * (x2 - x),\n",
    "                    scale * (y2 - y),\n",
    "                    color = color,\n",
    "                    linewidth=5\n",
    "                )\n",
    "#         figure.show()\n",
    "        \n"
   ]
  },
  {
   "cell_type": "code",
   "execution_count": 5,
   "metadata": {},
   "outputs": [],
   "source": [
    "def search_solutions(configuration, add_count, delete_count, verbose=False):\n",
    "    available_matches = configuration.available_matches()\n",
    "    absent_matches = configuration.absent_matches()\n",
    "    solutions = []\n",
    "    for removed_matches in combinations(available_matches, delete_count):\n",
    "        for added_matches in combinations(absent_matches, add_count):\n",
    "            for block_id, slot_index in removed_matches:\n",
    "                configuration.remove_match(block_id, slot_index)\n",
    "            for block_id, slot_index in added_matches:\n",
    "                configuration.add_match(block_id, slot_index)\n",
    "            if configuration.is_valid():\n",
    "                solution = Solution(\n",
    "                    configuration,\n",
    "                    removed_matches,\n",
    "                    added_matches\n",
    "                )\n",
    "                solutions.append(solution)\n",
    "                if verbose:\n",
    "                    solution.plot()\n",
    "            for block_id, slot_index in removed_matches:\n",
    "                configuration.add_match(block_id, slot_index)\n",
    "            for block_id, slot_index in added_matches:\n",
    "                configuration.remove_match(block_id, slot_index)\n",
    "    return solutions"
   ]
  },
  {
   "cell_type": "markdown",
   "metadata": {},
   "source": [
    "## Examples"
   ]
  },
  {
   "cell_type": "code",
   "execution_count": 6,
   "metadata": {},
   "outputs": [
    {
     "data": {
      "text/plain": [
       "[<__main__.Solution at 0x7f6d60221048>, <__main__.Solution at 0x7f6d601bdba8>]"
      ]
     },
     "execution_count": 6,
     "metadata": {},
     "output_type": "execute_result"
    },
    {
     "data": {
      "image/png": "[encoded data removed]",
      "text/plain": [
       "<Figure size 1440x720 with 1 Axes>"
      ]
     },
     "metadata": {},
     "output_type": "display_data"
    },
    {
     "data": {
      "image/png": "[encoded data removed]",
      "text/plain": [
       "<Figure size 1440x720 with 1 Axes>"
      ]
     },
     "metadata": {},
     "output_type": "display_data"
    }
   ],
   "source": [
    "conf = MatchConfiguration([Block.from_symbol('9')])\n",
    "search_solutions(conf, 1, 1, verbose=True)"
   ]
  },
  {
   "cell_type": "code",
   "execution_count": 7,
   "metadata": {},
   "outputs": [
    {
     "data": {
      "text/plain": [
       "[<__main__.Solution at 0x7f6d60221978>]"
      ]
     },
     "execution_count": 7,
     "metadata": {},
     "output_type": "execute_result"
    },
    {
     "data": {
      "image/png": "[encoded data removed]",
      "text/plain": [
       "<Figure size 1440x720 with 5 Axes>"
      ]
     },
     "metadata": {},
     "output_type": "display_data"
    }
   ],
   "source": [
    "conf = MatchConfiguration.from_str(\"2+3=6\")\n",
    "search_solutions(conf, add_count=1, delete_count=1, verbose=True)"
   ]
  },
  {
   "cell_type": "code",
   "execution_count": 8,
   "metadata": {},
   "outputs": [
    {
     "data": {
      "text/plain": [
       "[<__main__.Solution at 0x7f6d406a4f60>, <__main__.Solution at 0x7f6d404ada20>]"
      ]
     },
     "execution_count": 8,
     "metadata": {},
     "output_type": "execute_result"
    },
    {
     "data": {
      "image/png": "[encoded data removed]",
      "text/plain": [
       "<Figure size 1440x720 with 5 Axes>"
      ]
     },
     "metadata": {},
     "output_type": "display_data"
    },
    {
     "data": {
      "image/png": "[encoded data removed]",
      "text/plain": [
       "<Figure size 1440x720 with 5 Axes>"
      ]
     },
     "metadata": {},
     "output_type": "display_data"
    }
   ],
   "source": [
    "conf = MatchConfiguration.from_str(\"2+3=6\")\n",
    "search_solutions(conf, add_count=2, delete_count=2, verbose=True)"
   ]
  },
  {
   "cell_type": "code",
   "execution_count": 9,
   "metadata": {},
   "outputs": [
    {
     "data": {
      "text/plain": [
       "[]"
      ]
     },
     "execution_count": 9,
     "metadata": {},
     "output_type": "execute_result"
    }
   ],
   "source": [
    "conf = MatchConfiguration.from_str(\"2+3=6\")\n",
    "search_solutions(conf, add_count=2, delete_count=0, verbose=True)"
   ]
  },
  {
   "cell_type": "code",
   "execution_count": 10,
   "metadata": {},
   "outputs": [
    {
     "data": {
      "text/plain": [
       "[]"
      ]
     },
     "execution_count": 10,
     "metadata": {},
     "output_type": "execute_result"
    }
   ],
   "source": [
    "conf = MatchConfiguration.from_str(\"2+3=6\")\n",
    "search_solutions(conf, add_count=0, delete_count=2, verbose=True)"
   ]
  },
  {
   "cell_type": "code",
   "execution_count": 11,
   "metadata": {},
   "outputs": [
    {
     "data": {
      "text/plain": [
       "[]"
      ]
     },
     "execution_count": 11,
     "metadata": {},
     "output_type": "execute_result"
    }
   ],
   "source": [
    "conf = MatchConfiguration.from_str(\"2+3 = 6\")\n",
    "search_solutions(conf, add_count=1, delete_count=0, verbose=True)"
   ]
  },
  {
   "cell_type": "code",
   "execution_count": 12,
   "metadata": {},
   "outputs": [
    {
     "data": {
      "text/plain": [
       "[<__main__.Solution at 0x7f6d402e2198>]"
      ]
     },
     "execution_count": 12,
     "metadata": {},
     "output_type": "execute_result"
    },
    {
     "data": {
      "image/png": "[encoded data removed]",
      "text/plain": [
       "<Figure size 1440x720 with 5 Axes>"
      ]
     },
     "metadata": {},
     "output_type": "display_data"
    }
   ],
   "source": [
    "conf = MatchConfiguration.from_str(\"2 + 3 = 6\")\n",
    "search_solutions(conf, add_count=0, delete_count=1, verbose=True)"
   ]
  },
  {
   "cell_type": "code",
   "execution_count": 18,
   "metadata": {},
   "outputs": [],
   "source": [
    "def generate_equations(add_count, delete_count):\n",
    "    equations = []\n",
    "    for a, b, sign, c in product(range(10), range(10), [\"-\", \"+\"], range(10)):\n",
    "        equation = \"{}{}{}={}\".format(a, sign, b, c)\n",
    "        if eval(equation.replace(\"=\", \"==\")) == False:\n",
    "            conf = MatchConfiguration.from_str(equation)\n",
    "            solutions = search_solutions(conf, add_count, delete_count)\n",
    "            if len(solutions) == 1:\n",
    "                equations.append(equation)\n",
    "    return equations"
   ]
  },
  {
   "cell_type": "code",
   "execution_count": 22,
   "metadata": {},
   "outputs": [
    {
     "name": "stdout",
     "output_type": "stream",
     "text": [
      "203\n",
      "['0-0=8', '0-1=1', '0-1=7', '0+1=7', '0+1=9']\n"
     ]
    }
   ],
   "source": [
    "add_one_match_fixes = generate_equations(1, 0)\n",
    "print(len(add_one_match_fixes))\n",
    "print(add_one_match_fixes[:5])\n"
   ]
  },
  {
   "cell_type": "code",
   "execution_count": 23,
   "metadata": {},
   "outputs": [
    {
     "name": "stdout",
     "output_type": "stream",
     "text": [
      "483\n",
      "['0-0=8', '0+0=8', '0-1=5', '0-1=7', '0-1=8']\n"
     ]
    }
   ],
   "source": [
    "move_one_match_fixes = generate_equations(1, 1)\n",
    "print(len(move_one_match_fixes))\n",
    "print(move_one_match_fixes[:5])\n"
   ]
  },
  {
   "cell_type": "code",
   "execution_count": 24,
   "metadata": {},
   "outputs": [
    {
     "name": "stdout",
     "output_type": "stream",
     "text": [
      "543\n",
      "['0-0=7', '0-0=9', '0+0=1', '0+0=8', '0-1=6']\n"
     ]
    }
   ],
   "source": [
    "move_two_match_fixes = generate_equations(2, 2)\n",
    "print(len(move_two_match_fixes))\n",
    "print(move_two_match_fixes[:5])\n"
   ]
  },
  {
   "cell_type": "markdown",
   "metadata": {},
   "source": [
    "## Tests\n"
   ]
  },
  {
   "cell_type": "code",
   "execution_count": 13,
   "metadata": {},
   "outputs": [
    {
     "data": {
      "text/plain": [
       "False"
      ]
     },
     "execution_count": 13,
     "metadata": {},
     "output_type": "execute_result"
    }
   ],
   "source": [
    "eval(\"1+2==4\")"
   ]
  },
  {
   "cell_type": "code",
   "execution_count": 14,
   "metadata": {},
   "outputs": [
    {
     "data": {
      "text/plain": [
       "[(0, 1, 2, 3), (0, 1, 2, 4), (0, 1, 3, 4), (0, 2, 3, 4), (1, 2, 3, 4)]"
      ]
     },
     "execution_count": 14,
     "metadata": {},
     "output_type": "execute_result"
    }
   ],
   "source": [
    "list(combinations(range(5), 4))"
   ]
  },
  {
   "cell_type": "code",
   "execution_count": 15,
   "metadata": {
    "scrolled": true
   },
   "outputs": [],
   "source": [
    "# test block copy\n",
    "block1 = Block(BlockType.Digit, [1] * 7)\n",
    "block2 = deepcopy(block1)\n",
    "\n",
    "assert block1.indicators == block2.indicators\n",
    "assert not block1.indicators is block2.indicators\n",
    "block1.remove_match(1)\n",
    "assert block1.indicators != block2.indicators\n",
    "\n",
    "assert not block1.is_valid()\n",
    "assert block2.is_valid()\n",
    "\n",
    "# test block validation\n",
    "for indicators in DIGITS:\n",
    "    assert Block(BlockType.Digit, indicators).is_valid()\n",
    "assert not Block(BlockType.Digit, [0] * 7).is_valid()\n",
    "assert not Block(BlockType.Digit, [0] * 2 + [1] * 5).is_valid()\n"
   ]
  },
  {
   "cell_type": "code",
   "execution_count": 16,
   "metadata": {},
   "outputs": [
    {
     "data": {
      "image/png": "[encoded data removed]",
      "text/plain": [
       "<Figure size 1440x720 with 10 Axes>"
      ]
     },
     "metadata": {},
     "output_type": "display_data"
    }
   ],
   "source": [
    "sol = Solution(MatchConfiguration([Block.from_symbol(str(i)) for i in range(10)]))\n",
    "sol.plot()"
   ]
  },
  {
   "cell_type": "code",
   "execution_count": null,
   "metadata": {},
   "outputs": [],
   "source": []
  },
  {
   "cell_type": "code",
   "execution_count": null,
   "metadata": {},
   "outputs": [],
   "source": []
  },
  {
   "cell_type": "code",
   "execution_count": null,
   "metadata": {},
   "outputs": [],
   "source": []
  }
 ],
 "metadata": {
  "kernelspec": {
   "display_name": "Python 3",
   "language": "python",
   "name": "python3"
  },
  "language_info": {
   "codemirror_mode": {
    "name": "ipython",
    "version": 3
   },
   "file_extension": ".py",
   "mimetype": "text/x-python",
   "name": "python",
   "nbconvert_exporter": "python",
   "pygments_lexer": "ipython3",
   "version": "3.7.3"
  }
 },
 "nbformat": 4,
 "nbformat_minor": 2
}
